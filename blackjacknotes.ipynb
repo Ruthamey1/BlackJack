{
 "cells": [
  {
   "cell_type": "code",
   "execution_count": 2,
   "id": "39ab677a-7905-429d-97a7-b51e55051e8f",
   "metadata": {},
   "outputs": [],
   "source": [
    "import random"
   ]
  },
  {
   "cell_type": "code",
   "execution_count": 190,
   "id": "be8c45bc-1de0-437f-8f6c-b68684ff44c8",
   "metadata": {},
   "outputs": [
    {
     "name": "stdin",
     "output_type": "stream",
     "text": [
      "Welcome to BlackJack! What is your name? Ruth\n"
     ]
    }
   ],
   "source": [
    "#New Game\n",
    "name = input('Welcome to BlackJack! What is your name?')"
   ]
  },
  {
   "cell_type": "code",
   "execution_count": 314,
   "id": "14b1208b-6353-4e34-8524-e33e795c0ad8",
   "metadata": {},
   "outputs": [],
   "source": [
    "card = []\n",
    "count = 0"
   ]
  },
  {
   "cell_type": "code",
   "execution_count": 261,
   "id": "fa96d5db-9c81-4a41-8d33-652634725fb5",
   "metadata": {},
   "outputs": [],
   "source": [
    "def sorting_cards(suit, random_card):\n",
    "    if random_card in range(2,11):\n",
    "        card.insert(0, suit)\n",
    "        card.insert(0, random_card)\n",
    "    elif random_card == 1:\n",
    "        card.insert(0, suit)\n",
    "        card.insert(0, 'Ace')\n",
    "    elif random_card == 11:\n",
    "        card.insert(0, suit)\n",
    "        card.insert(0, 'Jack')\n",
    "    elif random_card == 12:\n",
    "        card.insert(0, suit)\n",
    "        card.insert(0, 'Queen')\n",
    "    elif random_card == 13:\n",
    "        card.insert(0, suit)\n",
    "        card.insert(0, 'King')"
   ]
  },
  {
   "cell_type": "code",
   "execution_count": 262,
   "id": "b39427ae-f9f5-43c5-92e3-d7f4c3c60c05",
   "metadata": {},
   "outputs": [],
   "source": [
    "def picking_a_card(random_card):\n",
    "    if random_card in range(1,14):\n",
    "        sorting_cards('club', random_card)\n",
    "    elif random_card in range(14,27):\n",
    "        random_card = random_card-13\n",
    "        sorting_cards('diamond', random_card)\n",
    "    elif random_card in range(27,40):\n",
    "        random_card = random_card-26\n",
    "        sorting_cards('spade', random_card)\n",
    "    elif random_card in range(40,53):\n",
    "        random_card = random_card-38\n",
    "        sorting_cards('heart', random_card)"
   ]
  },
  {
   "cell_type": "code",
   "execution_count": 283,
   "id": "bd5cb146-689d-4e34-8826-0836206df923",
   "metadata": {},
   "outputs": [],
   "source": [
    "def counting_cards(card):\n",
    "    global count\n",
    "    if card == 'Jack' or card == 'Queen' or card == 'King':\n",
    "        count += 10\n",
    "    elif card == 'Ace':\n",
    "        points = int(input('Would you like to choose Ace to have the value 1 or 11?'))\n",
    "        count += points\n",
    "    else:\n",
    "        count += card"
   ]
  },
  {
   "cell_type": "code",
   "execution_count": 315,
   "id": "88c0eaa9-9c47-4238-9cf4-f212802632bb",
   "metadata": {},
   "outputs": [],
   "source": [
    "random_card = random.randint(1,52)\n",
    "picking_a_card(random_card)"
   ]
  },
  {
   "cell_type": "code",
   "execution_count": 316,
   "id": "ba4de878-e9f5-4789-ae70-5ee174fad99e",
   "metadata": {},
   "outputs": [],
   "source": [
    "random_card = random.randint(1,52)\n",
    "picking_a_card(random_card)"
   ]
  },
  {
   "cell_type": "code",
   "execution_count": 317,
   "id": "8066947c-ecc8-4dea-a97e-050fe1ac993a",
   "metadata": {},
   "outputs": [
    {
     "name": "stdin",
     "output_type": "stream",
     "text": [
      "Would you like to choose Ace to have the value 1 or 11? 1\n"
     ]
    }
   ],
   "source": [
    "counting_cards(card[2])  \n",
    "counting_cards(card[0]) "
   ]
  },
  {
   "cell_type": "code",
   "execution_count": 318,
   "id": "003a0070-3830-464a-9d45-50419655fc1b",
   "metadata": {},
   "outputs": [
    {
     "name": "stdout",
     "output_type": "stream",
     "text": [
      "[2, 'diamond', 'Ace', 'diamond']\n"
     ]
    }
   ],
   "source": [
    "print(card)"
   ]
  },
  {
   "cell_type": "code",
   "execution_count": 319,
   "id": "7b79f072-d689-481f-8066-13c033d598e7",
   "metadata": {},
   "outputs": [
    {
     "name": "stdout",
     "output_type": "stream",
     "text": [
      "Hi Ruth! Your first two cards are 2 of diamonds and Ace of diamonds\n"
     ]
    }
   ],
   "source": [
    "print(f'Hi {name}! Your first two cards are {card[0]} of {card[1]}s and {card[2]} of {card[3]}s') "
   ]
  },
  {
   "cell_type": "code",
   "execution_count": 320,
   "id": "68ba0626-f99c-418b-bb6d-1fc476e4c3a1",
   "metadata": {},
   "outputs": [
    {
     "name": "stdout",
     "output_type": "stream",
     "text": [
      "You have 3 points so far\n"
     ]
    }
   ],
   "source": [
    "print(f'You have {count} points so far')"
   ]
  },
  {
   "cell_type": "code",
   "execution_count": 321,
   "id": "005d5e8f-ba5b-4534-acb6-c58655aa870d",
   "metadata": {},
   "outputs": [],
   "source": [
    "def hit():\n",
    "    global card\n",
    "    random_card = random.randint(1,52)\n",
    "    picking_a_card(random_card)\n",
    "    counting_cards(card[0]) \n",
    "    if count > 21:\n",
    "        print(\"Uh oh you're bust, you've lost!\")\n",
    "    else:\n",
    "        print(f'You now have {count} points')"
   ]
  },
  {
   "cell_type": "code",
   "execution_count": 322,
   "id": "222fd30f-37d4-4889-92ec-b6e32a442d16",
   "metadata": {},
   "outputs": [],
   "source": [
    "def stand():\n",
    "    print(f'Your final count is {count}')"
   ]
  },
  {
   "cell_type": "code",
   "execution_count": 323,
   "id": "f76c8973-520d-4887-9a7a-96c48d1ee541",
   "metadata": {},
   "outputs": [],
   "source": [
    "def next_move():\n",
    "    while count < 21:\n",
    "        next_move = input('Would you like to hit or stand?')\n",
    "        if next_move == 'hit':\n",
    "            print(f'You picked the {card[0]} of {card[1]}s')\n",
    "            hit()\n",
    "        elif next_move == 'stand':\n",
    "            stand()\n",
    "            break"
   ]
  },
  {
   "cell_type": "code",
   "execution_count": 324,
   "id": "98abe1d0-4bd8-4ab3-a330-2c79bc672d53",
   "metadata": {},
   "outputs": [
    {
     "name": "stdin",
     "output_type": "stream",
     "text": [
      "Would you like to hit or stand? hit\n"
     ]
    },
    {
     "name": "stdout",
     "output_type": "stream",
     "text": [
      "You picked the 2 of diamonds\n",
      "You now have 13 points\n"
     ]
    },
    {
     "name": "stdin",
     "output_type": "stream",
     "text": [
      "Would you like to hit or stand? hit\n"
     ]
    },
    {
     "name": "stdout",
     "output_type": "stream",
     "text": [
      "You picked the King of hearts\n",
      "You now have 21 points\n"
     ]
    }
   ],
   "source": [
    "next_move()"
   ]
  },
  {
   "cell_type": "code",
   "execution_count": null,
   "id": "65630e0f-004f-4908-93fa-dd0c9be33649",
   "metadata": {},
   "outputs": [],
   "source": []
  }
 ],
 "metadata": {
  "kernelspec": {
   "display_name": "Python 3 (ipykernel)",
   "language": "python",
   "name": "python3"
  },
  "language_info": {
   "codemirror_mode": {
    "name": "ipython",
    "version": 3
   },
   "file_extension": ".py",
   "mimetype": "text/x-python",
   "name": "python",
   "nbconvert_exporter": "python",
   "pygments_lexer": "ipython3",
   "version": "3.12.7"
  }
 },
 "nbformat": 4,
 "nbformat_minor": 5
}
