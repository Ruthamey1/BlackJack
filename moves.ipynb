{
 "cells": [
  {
   "cell_type": "code",
   "execution_count": null,
   "id": "99ccac60-4869-4478-8ed5-e6651ea94cff",
   "metadata": {},
   "outputs": [],
   "source": []
  }
 ],
 "metadata": {
  "kernelspec": {
   "display_name": "",
   "name": ""
  },
  "language_info": {
   "name": ""
  }
 },
 "nbformat": 4,
 "nbformat_minor": 5
}
