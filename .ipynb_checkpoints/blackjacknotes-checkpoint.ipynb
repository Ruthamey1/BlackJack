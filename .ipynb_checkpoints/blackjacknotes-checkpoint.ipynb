{
 "cells": [
  {
   "cell_type": "code",
   "execution_count": 19,
   "id": "39ab677a-7905-429d-97a7-b51e55051e8f",
   "metadata": {},
   "outputs": [],
   "source": [
    "import random\n",
    "import cv2\n",
    "import tkinter as tk\n",
    "from tkinter import ttk\n",
    "import seaborn as sns\n",
    "import matplotlib.pyplot as plt\n",
    "from matplotlib.backends.backend_tkagg import FigureCanvasTkAgg\n",
    "from tkinter import Frame, Label, Tk\n",
    "from PIL import Image, ImageTk"
   ]
  },
  {
   "cell_type": "markdown",
   "id": "e88cb46d-8b6f-454c-9dbe-eefb3916934c",
   "metadata": {},
   "source": [
    "**Things to think about**\n",
    "\n",
    "Currently can pick the same card twice ✅\n",
    "\n",
    "multiple players\n",
    "\n",
    "error handling\n",
    "\n",
    "seprating pages adding classes\n",
    "\n",
    "Command to say you have won\n",
    "\n",
    "Adding images of cards for each action"
   ]
  },
  {
   "cell_type": "code",
   "execution_count": 103,
   "id": "be8c45bc-1de0-437f-8f6c-b68684ff44c8",
   "metadata": {},
   "outputs": [
    {
     "name": "stdin",
     "output_type": "stream",
     "text": [
      "Welcome to BlackJack! What is your name? Ruth\n"
     ]
    }
   ],
   "source": [
    "#New Game\n",
    "name = input('Welcome to BlackJack! What is your name?')"
   ]
  },
  {
   "cell_type": "code",
   "execution_count": 139,
   "id": "14b1208b-6353-4e34-8524-e33e795c0ad8",
   "metadata": {},
   "outputs": [],
   "source": [
    "card = []\n",
    "count = 0"
   ]
  },
  {
   "cell_type": "code",
   "execution_count": 146,
   "id": "fa96d5db-9c81-4a41-8d33-652634725fb5",
   "metadata": {},
   "outputs": [],
   "source": [
    "def sorting_cards(suit, random_card):\n",
    "    if random_card in range(2,11):\n",
    "        card.insert(0, suit)\n",
    "        card.insert(0, random_card)\n",
    "    elif random_card == 1:\n",
    "        card.insert(0, suit)\n",
    "        card.insert(0, 'ace')\n",
    "    elif random_card == 11:\n",
    "        card.insert(0, suit)\n",
    "        card.insert(0, 'jack')\n",
    "    elif random_card == 12:\n",
    "        card.insert(0, suit)\n",
    "        card.insert(0, 'queen')\n",
    "    elif random_card == 13:\n",
    "        card.insert(0, suit)\n",
    "        card.insert(0, 'king')"
   ]
  },
  {
   "cell_type": "code",
   "execution_count": 147,
   "id": "b39427ae-f9f5-43c5-92e3-d7f4c3c60c05",
   "metadata": {},
   "outputs": [],
   "source": [
    "def picking_a_card(random_card):\n",
    "    if random_card in range(1,14):\n",
    "        sorting_cards('club', random_card)\n",
    "    elif random_card in range(14,27):\n",
    "        random_card = random_card-13\n",
    "        sorting_cards('diamond', random_card)\n",
    "    elif random_card in range(27,40):\n",
    "        random_card = random_card-26\n",
    "        sorting_cards('spade', random_card)\n",
    "    elif random_card in range(40,53):\n",
    "        random_card = random_card-38\n",
    "        sorting_cards('heart', random_card)"
   ]
  },
  {
   "cell_type": "code",
   "execution_count": 148,
   "id": "bd5cb146-689d-4e34-8826-0836206df923",
   "metadata": {},
   "outputs": [],
   "source": [
    "def counting_cards(card):\n",
    "    global count\n",
    "    if card == 'jack' or card == 'queen' or card == 'king':\n",
    "        count += 10\n",
    "    elif card == 'ace':\n",
    "        points = int(input('Would you like to choose Ace to have the value 1 or 11?'))\n",
    "        count += points\n",
    "    else:\n",
    "        count += card"
   ]
  },
  {
   "cell_type": "code",
   "execution_count": 149,
   "id": "3bdb4f51-8a65-40f9-8972-4a6ee04cb0c0",
   "metadata": {},
   "outputs": [],
   "source": [
    "#Function to stop card being picked twice\n",
    "def random_generator():\n",
    "    random_card = random.randint(1,52)\n",
    "    if random_card in card:\n",
    "        random_generator()\n",
    "    else:\n",
    "        return random_card"
   ]
  },
  {
   "cell_type": "code",
   "execution_count": 150,
   "id": "88c0eaa9-9c47-4238-9cf4-f212802632bb",
   "metadata": {},
   "outputs": [],
   "source": [
    "picking_a_card(random_generator())"
   ]
  },
  {
   "cell_type": "code",
   "execution_count": 151,
   "id": "dce5166a-84e2-48b7-acf0-04f67164c1aa",
   "metadata": {},
   "outputs": [
    {
     "data": {
      "text/plain": [
       "[3, 'club', 6, 'club']"
      ]
     },
     "execution_count": 151,
     "metadata": {},
     "output_type": "execute_result"
    }
   ],
   "source": [
    "card"
   ]
  },
  {
   "cell_type": "code",
   "execution_count": 109,
   "id": "ba4de878-e9f5-4789-ae70-5ee174fad99e",
   "metadata": {},
   "outputs": [],
   "source": [
    "picking_a_card(random_generator())"
   ]
  },
  {
   "cell_type": "code",
   "execution_count": 110,
   "id": "8066947c-ecc8-4dea-a97e-050fe1ac993a",
   "metadata": {},
   "outputs": [],
   "source": [
    "counting_cards(card[2])  \n",
    "counting_cards(card[0]) "
   ]
  },
  {
   "cell_type": "code",
   "execution_count": 111,
   "id": "7b79f072-d689-481f-8066-13c033d598e7",
   "metadata": {},
   "outputs": [
    {
     "name": "stdout",
     "output_type": "stream",
     "text": [
      "Hi Ruth! Your first two cards are 3 of clubs and queen of diamonds\n"
     ]
    }
   ],
   "source": [
    "print(f'Hi {name}! Lets play!')\n",
    "print(f'Your first two cards are {card[0]} of {card[1]}s and {card[2]} of {card[3]}s') "
   ]
  },
  {
   "cell_type": "code",
   "execution_count": 112,
   "id": "68ba0626-f99c-418b-bb6d-1fc476e4c3a1",
   "metadata": {},
   "outputs": [
    {
     "name": "stdout",
     "output_type": "stream",
     "text": [
      "You have 13 points so far\n"
     ]
    }
   ],
   "source": [
    "print(f'You have {count} points so far')"
   ]
  },
  {
   "cell_type": "code",
   "execution_count": 113,
   "id": "826f08ce-06ea-490f-9aac-a837c66c42b9",
   "metadata": {},
   "outputs": [
    {
     "data": {
      "text/plain": [
       "[3, 'club', 'queen', 'diamond']"
      ]
     },
     "execution_count": 113,
     "metadata": {},
     "output_type": "execute_result"
    }
   ],
   "source": [
    "card"
   ]
  },
  {
   "cell_type": "code",
   "execution_count": 114,
   "id": "ceeb78c9-a0d4-4b30-bc99-6f9dc95bfa11",
   "metadata": {},
   "outputs": [],
   "source": [
    "#Visualising cards which have been chosen\n",
    "#Function to read image of second card\n",
    "def card1():\n",
    "    card1 = f'{card[-2]}_of_{card[-1]}s.png'\n",
    "    test = cv2.imread(f'PNG-cards-1.3/{card1}')\n",
    "    test = cv2.cvtColor(test, cv2.COLOR_BGR2RGB)\n",
    "    #Reszing image\n",
    "    test = cv2.resize(test, (200,300), interpolation=cv2.INTER_AREA)\n",
    "    #Converting image to PIL format\n",
    "    image = Image.fromarray(test)\n",
    "    photo = ImageTk.PhotoImage(image)\n",
    "    display_photo(photo)\n",
    "\n",
    "#Function to read image of second card\n",
    "def card2():\n",
    "    card2 = f'{card[-4]}_of_{card[-3]}s.png'\n",
    "    test = cv2.imread(f'PNG-cards-1.3/{card2}')\n",
    "    test = cv2.cvtColor(test, cv2.COLOR_BGR2RGB)\n",
    "    #Reszing image\n",
    "    test = cv2.resize(test, (200,300), interpolation=cv2.INTER_AREA)\n",
    "    #Converting image to PIL format\n",
    "    image = Image.fromarray(test)\n",
    "    photo = ImageTk.PhotoImage(image)\n",
    "    display_photo(photo)\n",
    "\n",
    "#Function to display plot in the Tkinter window\n",
    "def display_photo(photo):\n",
    "    for widget in frame_plot.winfo_children():\n",
    "        widget.destroy()  # Clears previous plot\n",
    "    label = Label(frame_plot, image=photo)\n",
    "    label.image = photo \n",
    "    label.pack()\n",
    "\n",
    "\n",
    "#Creating the main Tkinter window\n",
    "root = tk.Tk()\n",
    "root.title(\"Blackjack\")\n",
    "root.geometry(\"500x400\")\n",
    "\n",
    "#A frame to hold the buttons on the left\n",
    "frame_buttons = ttk.Frame(root)\n",
    "frame_buttons.pack(side=\"left\", padx=20, pady=20)\n",
    "\n",
    "#A frame to hold the plot area\n",
    "frame_plot = ttk.Frame(root)\n",
    "frame_plot.pack(side=\"right\", padx=20, pady=20, fill=\"both\", expand=True)\n",
    "\n",
    "#Adding a button to see first card\n",
    "first_card = ttk.Button(frame_buttons, text=\"First Card\", command=card1)\n",
    "first_card.pack(pady=5, fill='x')\n",
    "\n",
    "#Adding a button to see second card\n",
    "second_card = ttk.Button(frame_buttons, text=\"Second Card\", command=card2)\n",
    "second_card.pack(pady=5, fill='x')\n",
    "\n",
    "root.mainloop()"
   ]
  },
  {
   "cell_type": "code",
   "execution_count": 115,
   "id": "005d5e8f-ba5b-4534-acb6-c58655aa870d",
   "metadata": {},
   "outputs": [],
   "source": [
    "def hit():\n",
    "    global card\n",
    "    picking_a_card(random_generator())\n",
    "    counting_cards(card[0]) \n",
    "    if count > 21:\n",
    "        print(\"Uh oh you're bust, you've lost!\")\n",
    "    else:\n",
    "        print(f'You now have {count} points')"
   ]
  },
  {
   "cell_type": "code",
   "execution_count": 116,
   "id": "222fd30f-37d4-4889-92ec-b6e32a442d16",
   "metadata": {},
   "outputs": [],
   "source": [
    "def stand():\n",
    "    print(f'Your final count is {count}')"
   ]
  },
  {
   "cell_type": "code",
   "execution_count": 117,
   "id": "f76c8973-520d-4887-9a7a-96c48d1ee541",
   "metadata": {},
   "outputs": [],
   "source": [
    "def next_move():\n",
    "    while count < 21:\n",
    "        next_move = input('Would you like to hit or stand?')\n",
    "        if next_move == 'hit':\n",
    "            print(f'You picked the {card[0]} of {card[1]}s')\n",
    "            hit()\n",
    "        elif next_move == 'stand':\n",
    "            stand()\n",
    "            \n",
    "            break"
   ]
  },
  {
   "cell_type": "code",
   "execution_count": 118,
   "id": "98abe1d0-4bd8-4ab3-a330-2c79bc672d53",
   "metadata": {},
   "outputs": [
    {
     "name": "stdin",
     "output_type": "stream",
     "text": [
      "Would you like to hit or stand? hit\n"
     ]
    },
    {
     "name": "stdout",
     "output_type": "stream",
     "text": [
      "You picked the 3 of clubs\n",
      "You now have 20 points\n"
     ]
    },
    {
     "name": "stdin",
     "output_type": "stream",
     "text": [
      "Would you like to hit or stand? stand\n"
     ]
    },
    {
     "name": "stdout",
     "output_type": "stream",
     "text": [
      "Your final count is 20\n"
     ]
    }
   ],
   "source": [
    "next_move()"
   ]
  },
  {
   "cell_type": "code",
   "execution_count": 77,
   "id": "65630e0f-004f-4908-93fa-dd0c9be33649",
   "metadata": {},
   "outputs": [
    {
     "data": {
      "text/plain": [
       "[10, 'heart', 6, 'diamond', 5, 'spade']"
      ]
     },
     "execution_count": 77,
     "metadata": {},
     "output_type": "execute_result"
    }
   ],
   "source": [
    "card"
   ]
  },
  {
   "cell_type": "code",
   "execution_count": 102,
   "id": "aed02909-b74d-4859-a3fe-0b56a7979ab1",
   "metadata": {},
   "outputs": [],
   "source": [
    "def visualisation():\n",
    "    def added_card():\n",
    "        added = f'{card[-6]}_of_{card[-5]}s.png'\n",
    "        test = cv2.imread(f'PNG-cards-1.3/{added}')\n",
    "        test = cv2.cvtColor(test, cv2.COLOR_BGR2RGB)\n",
    "        #Reszing image\n",
    "        test = cv2.resize(test, (200,300), interpolation=cv2.INTER_AREA)\n",
    "        #Converting image to PIL format\n",
    "        image = Image.fromarray(test)\n",
    "        photo = ImageTk.PhotoImage(image)\n",
    "        display_photo(photo)\n",
    "    \n",
    "    #Creating the main Tkinter window\n",
    "    root = tk.Tk()\n",
    "    root.title(\"Blackjack\")\n",
    "    root.geometry(\"500x400\")\n",
    "    \n",
    "    #A frame to hold the buttons on the left\n",
    "    frame_buttons = ttk.Frame(root)\n",
    "    frame_buttons.pack(side=\"left\", padx=20, pady=20)\n",
    "    \n",
    "    #A frame to hold the plot area\n",
    "    frame_plot = ttk.Frame(root)\n",
    "    frame_plot.pack(side=\"right\", padx=20, pady=20, fill=\"both\", expand=True)\n",
    "    \n",
    "    #Adding a button to see first card\n",
    "    first_card = ttk.Button(frame_buttons, text=\"First Card\", command=card1)\n",
    "    first_card.pack(pady=5, fill='x')\n",
    "    \n",
    "    #Adding a button to see second card\n",
    "    second_card = ttk.Button(frame_buttons, text=\"Second Card\", command=card2)\n",
    "    second_card.pack(pady=5, fill='x')\n",
    "    \n",
    "    #Adding a button to see second card\n",
    "    added_card = ttk.Button(frame_buttons, text=\"Next Card\", command=added_card)\n",
    "    added_card.pack(pady=5, fill='x')\n",
    "    \n",
    "    root.mainloop()"
   ]
  },
  {
   "cell_type": "code",
   "execution_count": null,
   "id": "317914f7-3a42-443e-84bb-df1d6265fa61",
   "metadata": {},
   "outputs": [],
   "source": []
  }
 ],
 "metadata": {
  "kernelspec": {
   "display_name": "Python 3 (ipykernel)",
   "language": "python",
   "name": "python3"
  },
  "language_info": {
   "codemirror_mode": {
    "name": "ipython",
    "version": 3
   },
   "file_extension": ".py",
   "mimetype": "text/x-python",
   "name": "python",
   "nbconvert_exporter": "python",
   "pygments_lexer": "ipython3",
   "version": "3.12.7"
  }
 },
 "nbformat": 4,
 "nbformat_minor": 5
}
