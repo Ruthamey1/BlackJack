{
 "cells": [
  {
   "cell_type": "code",
   "execution_count": 2,
   "id": "39ab677a-7905-429d-97a7-b51e55051e8f",
   "metadata": {},
   "outputs": [],
   "source": [
    "import random"
   ]
  },
  {
   "cell_type": "code",
   "execution_count": 133,
   "id": "fa96d5db-9c81-4a41-8d33-652634725fb5",
   "metadata": {},
   "outputs": [],
   "source": [
    "def sorting_cards(suit, random_card):\n",
    "    if random_card in range(2,11):\n",
    "        card.append(suit)\n",
    "        card.append(random_card)\n",
    "    elif random_card == 1:\n",
    "        card.append(suit)\n",
    "        card.append('Ace')\n",
    "    elif random_card == 11:\n",
    "        card.append(suit)\n",
    "        card.append('Jack')\n",
    "    elif random_card == 12:\n",
    "        card.append(suit)\n",
    "        card.append('Queen')\n",
    "    elif random_card == 13:\n",
    "        card.append(suit)\n",
    "        card.append('King')"
   ]
  },
  {
   "cell_type": "code",
   "execution_count": 134,
   "id": "b39427ae-f9f5-43c5-92e3-d7f4c3c60c05",
   "metadata": {},
   "outputs": [],
   "source": [
    "card = []\n",
    "def picking_a_card(random_card):\n",
    "    if random_card in range(1,14):\n",
    "        sorting_cards('club', random_card)\n",
    "    elif random_card in range(14,27):\n",
    "        random_card = random_card-13\n",
    "        sorting_cards('diamond', random_card)\n",
    "    elif random_card in range(27,40):\n",
    "        random_card = random_card-26\n",
    "        sorting_cards('spade', random_card)\n",
    "    elif random_card in range(40,53):\n",
    "        random_card = random_card-38\n",
    "        sorting_cards('heart', random_card)"
   ]
  },
  {
   "cell_type": "code",
   "execution_count": 101,
   "id": "f50da6a2-3109-409c-addc-625016ca16a7",
   "metadata": {},
   "outputs": [
    {
     "name": "stdin",
     "output_type": "stream",
     "text": [
      "Welcome to BlackJack! What is your name? Ruth\n"
     ]
    }
   ],
   "source": [
    "name = input('Welcome to BlackJack! What is your name?')"
   ]
  },
  {
   "cell_type": "code",
   "execution_count": 131,
   "id": "88c0eaa9-9c47-4238-9cf4-f212802632bb",
   "metadata": {},
   "outputs": [],
   "source": [
    "random_card = random.randint(1,52)\n",
    "picking_a_card(random_card)"
   ]
  },
  {
   "cell_type": "code",
   "execution_count": 137,
   "id": "ba4de878-e9f5-4789-ae70-5ee174fad99e",
   "metadata": {},
   "outputs": [],
   "source": [
    "random_card = random.randint(1,52)\n",
    "picking_a_card(random_card)"
   ]
  },
  {
   "cell_type": "code",
   "execution_count": 128,
   "id": "ef32a9b6-b0d3-4410-9f7e-9b3478aa0f12",
   "metadata": {},
   "outputs": [
    {
     "name": "stdout",
     "output_type": "stream",
     "text": [
      "yes\n"
     ]
    }
   ],
   "source": [
    "card=1\n",
    "if card in range(1,53):\n",
    "    print('yes')"
   ]
  },
  {
   "cell_type": "code",
   "execution_count": 138,
   "id": "003a0070-3830-464a-9d45-50419655fc1b",
   "metadata": {},
   "outputs": [
    {
     "name": "stdout",
     "output_type": "stream",
     "text": [
      "['heart', 10, 'heart', 'King']\n"
     ]
    }
   ],
   "source": [
    "print(card)"
   ]
  },
  {
   "cell_type": "code",
   "execution_count": 139,
   "id": "27c7ba03-8a3b-4b58-a2a1-b5f12dce37b8",
   "metadata": {},
   "outputs": [
    {
     "name": "stdout",
     "output_type": "stream",
     "text": [
      "10\n"
     ]
    }
   ],
   "source": [
    "print(card[1])"
   ]
  },
  {
   "cell_type": "code",
   "execution_count": 140,
   "id": "7b79f072-d689-481f-8066-13c033d598e7",
   "metadata": {},
   "outputs": [
    {
     "name": "stdout",
     "output_type": "stream",
     "text": [
      "Hi Ruth! Your first two cards are 10 of hearts and King of hearts\n"
     ]
    }
   ],
   "source": [
    "print(f'Hi {name}! Your first two cards are {card[1]} of {card[0]}s and {card[3]} of {card[2]}s')"
   ]
  },
  {
   "cell_type": "code",
   "execution_count": null,
   "id": "68ba0626-f99c-418b-bb6d-1fc476e4c3a1",
   "metadata": {},
   "outputs": [],
   "source": []
  }
 ],
 "metadata": {
  "kernelspec": {
   "display_name": "Python 3 (ipykernel)",
   "language": "python",
   "name": "python3"
  },
  "language_info": {
   "codemirror_mode": {
    "name": "ipython",
    "version": 3
   },
   "file_extension": ".py",
   "mimetype": "text/x-python",
   "name": "python",
   "nbconvert_exporter": "python",
   "pygments_lexer": "ipython3",
   "version": "3.12.7"
  }
 },
 "nbformat": 4,
 "nbformat_minor": 5
}
