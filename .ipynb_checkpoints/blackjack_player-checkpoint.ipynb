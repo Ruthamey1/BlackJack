{
 "cells": [
  {
   "cell_type": "code",
   "execution_count": 1,
   "id": "ca82ba52-7783-4838-a924-2691436ddf61",
   "metadata": {},
   "outputs": [
    {
     "name": "stdout",
     "output_type": "stream",
     "text": [
      "[NbConvertApp] Converting notebook Deck.ipynb to script\n",
      "[NbConvertApp] Writing 2759 bytes to Deck.py\n"
     ]
    }
   ],
   "source": [
    "from Deck import Cards, Moves"
   ]
  },
  {
   "cell_type": "code",
   "execution_count": 6,
   "id": "cb16595d-2b3d-40f0-a92c-0b24aef29545",
   "metadata": {},
   "outputs": [
    {
     "name": "stdin",
     "output_type": "stream",
     "text": [
      "Welcome to BlackJack! What is your name? Ruth\n"
     ]
    },
    {
     "name": "stdout",
     "output_type": "stream",
     "text": [
      "Hi Ruth! Lets play!\n",
      "Your first two cards are 4 of clubs and 6 of clubs\n",
      "You have 10 points so far\n"
     ]
    },
    {
     "name": "stdin",
     "output_type": "stream",
     "text": [
      "Would you like to hit or stand? hit\n"
     ]
    },
    {
     "name": "stdout",
     "output_type": "stream",
     "text": [
      "You picked the jack of spades\n",
      "You now have 20 points\n"
     ]
    },
    {
     "name": "stdin",
     "output_type": "stream",
     "text": [
      "Would you like to hit or stand? hit\n",
      "Would you like to choose Ace to have the value 1 or 11? 1\n"
     ]
    },
    {
     "name": "stdout",
     "output_type": "stream",
     "text": [
      "You picked the ace of hearts\n",
      "You now have 21 points\n"
     ]
    }
   ],
   "source": [
    "def play():\n",
    "    name = input('Welcome to BlackJack! What is your name?')\n",
    "    print(f'Hi {name}! Lets play!')\n",
    "    game = Moves()\n",
    "    game.picking_a_card()\n",
    "    game.counting_cards()   \n",
    "    game.picking_a_card()\n",
    "    game.counting_cards() \n",
    "    print(f'Your first two cards are {game.card[0]} of {game.card[1]}s and {game.card[2]} of {game.card[3]}s') \n",
    "    print(f'You have {game.count} points so far')\n",
    "    game.next_move()\n",
    "if __name__ == '__main__':\n",
    "    play()"
   ]
  },
  {
   "cell_type": "code",
   "execution_count": null,
   "id": "6affc815-a7b5-4fd4-9c53-f49b6b63b186",
   "metadata": {},
   "outputs": [],
   "source": []
  }
 ],
 "metadata": {
  "kernelspec": {
   "display_name": "Python 3 (ipykernel)",
   "language": "python",
   "name": "python3"
  },
  "language_info": {
   "codemirror_mode": {
    "name": "ipython",
    "version": 3
   },
   "file_extension": ".py",
   "mimetype": "text/x-python",
   "name": "python",
   "nbconvert_exporter": "python",
   "pygments_lexer": "ipython3",
   "version": "3.12.7"
  }
 },
 "nbformat": 4,
 "nbformat_minor": 5
}
