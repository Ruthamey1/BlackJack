{
 "cells": [
  {
   "cell_type": "code",
   "execution_count": 5,
   "id": "ca82ba52-7783-4838-a924-2691436ddf61",
   "metadata": {},
   "outputs": [
    {
     "name": "stdout",
     "output_type": "stream",
     "text": [
      "[NbConvertApp] Converting notebook blackjack_player.ipynb to script\n",
      "[NbConvertApp] Writing 2596 bytes to blackjack_player.py\n"
     ]
    }
   ],
   "source": [
    "#Incase needed as a .py file\n",
    "!jupyter nbconvert --to script blackjack_player.ipynb"
   ]
  },
  {
   "cell_type": "code",
   "execution_count": 1,
   "id": "2f8752b9-1f03-42d9-b457-28a256c26297",
   "metadata": {},
   "outputs": [
    {
     "name": "stdout",
     "output_type": "stream",
     "text": [
      "[NbConvertApp] Converting notebook Deck.ipynb to script\n",
      "[NbConvertApp] Writing 10398 bytes to Deck.py\n"
     ]
    }
   ],
   "source": [
    "#Importing classes from the file Deck\n",
    "from Deck import Cards, Moves, Visualisation"
   ]
  },
  {
   "cell_type": "code",
   "execution_count": 2,
   "id": "9ad1bc5a-1fa9-4b9a-8274-775f802adc67",
   "metadata": {},
   "outputs": [],
   "source": [
    "#Adding player to play against\n",
    "def added_player():\n",
    "    game = Moves()\n",
    "    game.picking_a_card()\n",
    "    game.counting_cards()   \n",
    "    game.picking_a_card()\n",
    "    game.counting_cards() \n",
    "    while game.count < 15:\n",
    "        game.hit_another_player()\n",
    "    return game.count"
   ]
  },
  {
   "cell_type": "code",
   "execution_count": 3,
   "id": "f35ac13d-f4f9-4a53-af85-be6796f4b678",
   "metadata": {},
   "outputs": [],
   "source": [
    "#Calling player\n",
    "#can add more than 1 if wanted\n",
    "player1 = added_player()"
   ]
  },
  {
   "cell_type": "code",
   "execution_count": 4,
   "id": "6affc815-a7b5-4fd4-9c53-f49b6b63b186",
   "metadata": {},
   "outputs": [
    {
     "name": "stdin",
     "output_type": "stream",
     "text": [
      "Welcome to BlackJack! What is your name? Ruth\n"
     ]
    },
    {
     "name": "stdout",
     "output_type": "stream",
     "text": [
      "Hi Ruth! Lets play!\n",
      "Your first two cards are 3 of diamonds and jack of spades\n",
      "You have 13 points so far\n"
     ]
    },
    {
     "name": "stdin",
     "output_type": "stream",
     "text": [
      "Would you like to hit or stand? hit\n"
     ]
    },
    {
     "name": "stdout",
     "output_type": "stream",
     "text": [
      "You picked the 3 of hearts\n",
      "You now have 16 points\n"
     ]
    },
    {
     "name": "stdin",
     "output_type": "stream",
     "text": [
      "Would you like to hit or stand? hit\n"
     ]
    },
    {
     "name": "stdout",
     "output_type": "stream",
     "text": [
      "You picked the 2 of hearts\n",
      "You now have 18 points\n"
     ]
    },
    {
     "name": "stdin",
     "output_type": "stream",
     "text": [
      "Would you like to hit or stand? stand\n"
     ]
    },
    {
     "name": "stdout",
     "output_type": "stream",
     "text": [
      "Your final count is 18\n",
      "Better luck next time\n"
     ]
    }
   ],
   "source": [
    "#Funtion to play the game\n",
    "def play():\n",
    "    name = input('Welcome to BlackJack! What is your name?')\n",
    "    print(f'Hi {name}! Lets play!')\n",
    "    #Calling classes from Deck\n",
    "    game = Visualisation()\n",
    "    #Picking first two cards\n",
    "    game.picking_a_card()\n",
    "    game.counting_cards()   \n",
    "    game.picking_a_card()\n",
    "    game.counting_cards() \n",
    "    print(f'Your first two cards are {game.card[2]} of {game.card[3]}s and {game.card[0]} of {game.card[1]}s') \n",
    "    print(f'You have {game.count} points so far')\n",
    "    #Showing pictures of first two cards\n",
    "    game.creation()\n",
    "    #Next move\n",
    "    move = input('Would you like to hit or stand?')\n",
    "    if move == 'hit'.lower():\n",
    "        game.hit()\n",
    "        game.creation2()\n",
    "        if game.count <= 21:\n",
    "            move = input('Would you like to hit or stand?')\n",
    "            if move == 'hit'.lower():\n",
    "                game.hit()\n",
    "                game.creation3()\n",
    "                if game.count <= 21:\n",
    "                    move = input('Would you like to hit or stand?')\n",
    "                    if move == 'hit'.lower():\n",
    "                        game.hit()\n",
    "                        game.creation4()\n",
    "                    elif move == 'stand'.lower():\n",
    "                        game.stand()\n",
    "                    else:\n",
    "                        raise ValueError('Please enter hit or stand')\n",
    "            elif move == 'stand'.lower():\n",
    "                game.stand()\n",
    "            else:\n",
    "                raise ValueError('Please enter hit or stand')\n",
    "    elif move == 'stand'.lower():\n",
    "        game.stand()\n",
    "    else:\n",
    "        raise ValueError('Please enter hit or stand')\n",
    "    #If statements to show who won\n",
    "    #If more players are added, need to be added to if statements\n",
    "    if game.count > player1 and game.count <= 21:\n",
    "        print(\"Congratulations! You've won!\")\n",
    "    elif game.count == player1 and game.count <= 21:\n",
    "        print(\"Well Done! It's a draw\")\n",
    "    else:\n",
    "        print('Better luck next time')\n",
    "\n",
    "#Calling function\n",
    "if __name__ == '__main__':\n",
    "    play()"
   ]
  },
  {
   "cell_type": "code",
   "execution_count": null,
   "id": "5fd9c4c3-f657-4f7c-a178-197d09b8cff6",
   "metadata": {},
   "outputs": [],
   "source": []
  }
 ],
 "metadata": {
  "kernelspec": {
   "display_name": "Python 3 (ipykernel)",
   "language": "python",
   "name": "python3"
  },
  "language_info": {
   "codemirror_mode": {
    "name": "ipython",
    "version": 3
   },
   "file_extension": ".py",
   "mimetype": "text/x-python",
   "name": "python",
   "nbconvert_exporter": "python",
   "pygments_lexer": "ipython3",
   "version": "3.12.7"
  }
 },
 "nbformat": 4,
 "nbformat_minor": 5
}
