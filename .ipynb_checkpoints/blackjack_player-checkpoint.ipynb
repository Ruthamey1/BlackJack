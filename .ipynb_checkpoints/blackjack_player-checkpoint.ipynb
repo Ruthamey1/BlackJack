{
 "cells": [
  {
   "cell_type": "code",
   "execution_count": 1,
   "id": "ca82ba52-7783-4838-a924-2691436ddf61",
   "metadata": {},
   "outputs": [
    {
     "name": "stdout",
     "output_type": "stream",
     "text": [
      "[NbConvertApp] Converting notebook Deck.ipynb to script\n",
      "[NbConvertApp] Writing 10215 bytes to Deck.py\n"
     ]
    }
   ],
   "source": [
    "from Deck import Cards, Moves, Visualisation"
   ]
  },
  {
   "cell_type": "code",
   "execution_count": 11,
   "id": "9ad1bc5a-1fa9-4b9a-8274-775f802adc67",
   "metadata": {},
   "outputs": [],
   "source": [
    "def added_player():\n",
    "    game = Moves()\n",
    "    game.picking_a_card()\n",
    "    game.counting_cards()   \n",
    "    game.picking_a_card()\n",
    "    game.counting_cards() \n",
    "    while game.count < 15:\n",
    "        game.hit()\n",
    "    return game.count"
   ]
  },
  {
   "cell_type": "code",
   "execution_count": 12,
   "id": "f35ac13d-f4f9-4a53-af85-be6796f4b678",
   "metadata": {},
   "outputs": [],
   "source": [
    "player1 = added_player()"
   ]
  },
  {
   "cell_type": "code",
   "execution_count": 14,
   "id": "6affc815-a7b5-4fd4-9c53-f49b6b63b186",
   "metadata": {},
   "outputs": [
    {
     "name": "stdin",
     "output_type": "stream",
     "text": [
      "Welcome to BlackJack! What is your name? Moof\n"
     ]
    },
    {
     "name": "stdout",
     "output_type": "stream",
     "text": [
      "Hi Moof! Lets play!\n",
      "Your first two cards are 6 of clubs and 6 of spades\n",
      "You have 12 points so far\n"
     ]
    },
    {
     "name": "stdin",
     "output_type": "stream",
     "text": [
      "Would you like to hit or stand? hit\n"
     ]
    },
    {
     "name": "stdout",
     "output_type": "stream",
     "text": [
      "You picked the 9 of hearts\n",
      "You now have 21 points\n"
     ]
    },
    {
     "name": "stdin",
     "output_type": "stream",
     "text": [
      "Would you like to hit or stand? stand\n"
     ]
    },
    {
     "name": "stdout",
     "output_type": "stream",
     "text": [
      "Your final count is 21\n",
      "Congratulations! You've won!\n"
     ]
    }
   ],
   "source": [
    "def play():\n",
    "    name = input('Welcome to BlackJack! What is your name?')\n",
    "    print(f'Hi {name}! Lets play!')\n",
    "    game = Visualisation()\n",
    "    game.picking_a_card()\n",
    "    game.counting_cards()   \n",
    "    game.picking_a_card()\n",
    "    game.counting_cards() \n",
    "    print(f'Your first two cards are {game.card[2]} of {game.card[3]}s and {game.card[0]} of {game.card[1]}s') \n",
    "    print(f'You have {game.count} points so far')\n",
    "    game.creation()\n",
    "    move = input('Would you like to hit or stand?')\n",
    "    if move == 'hit'.lower():\n",
    "        game.hit()\n",
    "        game.creation2()\n",
    "        if game.count <= 21:\n",
    "            move = input('Would you like to hit or stand?')\n",
    "            if move == 'hit'.lower():\n",
    "                game.hit()\n",
    "                game.creation3()\n",
    "                if game.count <= 21:\n",
    "                    move = input('Would you like to hit or stand?')\n",
    "                    if move == 'hit'.lower():\n",
    "                        game.hit()\n",
    "                        game.creation4()\n",
    "                    elif move == 'stand'.lower():\n",
    "                        game.stand()\n",
    "                    else:\n",
    "                        raise ValueError('Please enter hit or stand')\n",
    "            elif move == 'stand'.lower():\n",
    "                game.stand()\n",
    "            else:\n",
    "                raise ValueError('Please enter hit or stand')\n",
    "    elif move == 'stand'.lower():\n",
    "        game.stand()\n",
    "    else:\n",
    "        raise ValueError('Please enter hit or stand')\n",
    "    if game.count > player1 and game.count <= 21:\n",
    "        print(\"Congratulations! You've won!\")\n",
    "    elif game.count == player1 and game.count <= 21:\n",
    "        print(\"Well Done! It's a draw\")\n",
    "    else:\n",
    "        print('Better luck next time')\n",
    "    \n",
    "if __name__ == '__main__':\n",
    "    play()"
   ]
  },
  {
   "cell_type": "code",
   "execution_count": null,
   "id": "5fd9c4c3-f657-4f7c-a178-197d09b8cff6",
   "metadata": {},
   "outputs": [],
   "source": []
  }
 ],
 "metadata": {
  "kernelspec": {
   "display_name": "Python 3 (ipykernel)",
   "language": "python",
   "name": "python3"
  },
  "language_info": {
   "codemirror_mode": {
    "name": "ipython",
    "version": 3
   },
   "file_extension": ".py",
   "mimetype": "text/x-python",
   "name": "python",
   "nbconvert_exporter": "python",
   "pygments_lexer": "ipython3",
   "version": "3.12.7"
  }
 },
 "nbformat": 4,
 "nbformat_minor": 5
}
