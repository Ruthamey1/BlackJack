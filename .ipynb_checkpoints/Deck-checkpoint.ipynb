{
 "cells": [
  {
   "cell_type": "code",
   "execution_count": 1,
   "id": "67589986-87da-47cd-b880-d555fa89ad58",
   "metadata": {},
   "outputs": [
    {
     "name": "stdout",
     "output_type": "stream",
     "text": [
      "[NbConvertApp] Converting notebook Deck.ipynb to script\n",
      "[NbConvertApp] Writing 3000 bytes to Deck.py\n"
     ]
    }
   ],
   "source": [
    "#Using Jupyer notebook converts to .py so can interact across different notebooks\n",
    "!jupyter nbconvert --to script Deck.ipynb"
   ]
  },
  {
   "cell_type": "code",
   "execution_count": 2,
   "id": "71293fdd-26fe-4fc1-a0b3-032b671d058b",
   "metadata": {},
   "outputs": [],
   "source": [
    "#Importing neccesary library\n",
    "import random"
   ]
  },
  {
   "cell_type": "code",
   "execution_count": 3,
   "id": "b8aabfb1-0ea5-4bd4-ae99-c70b372ebce1",
   "metadata": {},
   "outputs": [],
   "source": [
    "class Cards:\n",
    "    #Initializing parameters\n",
    "    def __init__(self):\n",
    "        self.count = 0\n",
    "        self.card = []\n",
    "        self.used = []\n",
    "\n",
    "    #Function to generate card and stop from being picked twice\n",
    "    def random_generator(self):\n",
    "        random_card = random.randint(1,52)\n",
    "        if random_card in self.used:\n",
    "            return self.random_generator()\n",
    "        else:\n",
    "            return random_card\n",
    "\n",
    "    #Sorting integer cards from honor cards\n",
    "    def sorting_cards(self, suit, random_card):\n",
    "        if random_card in range(2,11):\n",
    "            self.card.insert(0, suit)\n",
    "            self.card.insert(0, random_card)\n",
    "        elif random_card == 1:\n",
    "            self.card.insert(0, suit)\n",
    "            self.card.insert(0, 'ace')\n",
    "        elif random_card == 11:\n",
    "            self.card.insert(0, suit)\n",
    "            self.card.insert(0, 'jack')\n",
    "        elif random_card == 12:\n",
    "            self.card.insert(0, suit)\n",
    "            self.card.insert(0, 'queen')\n",
    "        elif random_card == 13:\n",
    "            self.card.insert(0, suit)\n",
    "            self.card.insert(0, 'king')\n",
    "\n",
    "    #Picking a card and sorting into suits\n",
    "    def picking_a_card(self):\n",
    "        random_card = self.random_generator()\n",
    "        self.used.append(random_card)\n",
    "        if random_card in range(1,14):\n",
    "            self.sorting_cards('club', random_card)\n",
    "        elif random_card in range(14,27):\n",
    "            self.sorting_cards('diamond', random_card-13)\n",
    "        elif random_card in range(27,40):\n",
    "            self.sorting_cards('spade', random_card-26)\n",
    "        elif random_card in range(40,53):\n",
    "            self.sorting_cards('heart', random_card-39)\n",
    "\n",
    "    #Counting value of cards given\n",
    "    def counting_cards(self):\n",
    "        if self.card[0] == 'jack' or self.card[0] == 'queen' or self.card[0] == 'king':\n",
    "            self.count += 10\n",
    "        elif self.card[0] == 'ace':\n",
    "            points = int(input('Would you like to choose Ace to have the value 1 or 11?'))\n",
    "            self.count += points\n",
    "        else:\n",
    "            self.count += self.card[0]"
   ]
  },
  {
   "cell_type": "code",
   "execution_count": 4,
   "id": "f844a992-7dc8-41f6-864f-f3b50a3c3903",
   "metadata": {},
   "outputs": [],
   "source": [
    "#Moves inherites Cards\n",
    "class Moves(Cards):\n",
    "\n",
    "    def __init__(self):\n",
    "        super().__init__()\n",
    "\n",
    "    #picking a new card, counting it, seeing if you're bust\n",
    "    def hit(self):\n",
    "        self.picking_a_card()\n",
    "        self.counting_cards() \n",
    "        if self.count > 21:\n",
    "            print(\"Uh oh you're bust, you've lost!\")\n",
    "        else:\n",
    "            print(f'You picked the {self.card[0]} of {self.card[1]}s')\n",
    "            print(f'You now have {self.count} points')\n",
    "\n",
    "    #Finalising your count\n",
    "    def stand(self):\n",
    "        print(f'Your final count is {self.count}')\n",
    "\n",
    "    #Choosing your next move\n",
    "    def next_move(self):\n",
    "        while self.count < 21:\n",
    "            move = input('Would you like to hit or stand?')\n",
    "            if move == 'hit':\n",
    "                self.hit()\n",
    "            elif move == 'stand':\n",
    "                self.stand()\n",
    "                break"
   ]
  },
  {
   "cell_type": "code",
   "execution_count": null,
   "id": "9c5b41a0-5c49-44d3-b6db-a72334d42d0d",
   "metadata": {},
   "outputs": [],
   "source": []
  }
 ],
 "metadata": {
  "kernelspec": {
   "display_name": "Python 3 (ipykernel)",
   "language": "python",
   "name": "python3"
  },
  "language_info": {
   "codemirror_mode": {
    "name": "ipython",
    "version": 3
   },
   "file_extension": ".py",
   "mimetype": "text/x-python",
   "name": "python",
   "nbconvert_exporter": "python",
   "pygments_lexer": "ipython3",
   "version": "3.12.7"
  }
 },
 "nbformat": 4,
 "nbformat_minor": 5
}
